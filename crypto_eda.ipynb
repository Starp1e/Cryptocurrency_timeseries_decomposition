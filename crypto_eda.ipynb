{
 "cells": [
  {
   "cell_type": "code",
   "execution_count": 267,
   "id": "d2621cae",
   "metadata": {},
   "outputs": [],
   "source": [
    "import pandas as pd\n",
    "import ruptures as rpt\n",
    "import matplotlib.pyplot as plt\n",
    "import matplotlib.dates as mdates\n",
    "import datetime as dt\n",
    "\n",
    "import numpy as np\n",
    "import os \n",
    "\n",
    "from statsmodels.tsa.seasonal import seasonal_decompose\n",
    "from fbprophet import Prophet\n",
    "import numpy as np\n",
    "from tsmoothie.utils_func import sim_randomwalk\n",
    "from tsmoothie.smoother import LowessSmoother\n",
    "from tsmoothie.bootstrap import BootstrappingWrapper\n",
    "from tsmoothie.smoother import ConvolutionSmoother"
   ]
  },
  {
   "cell_type": "code",
   "execution_count": 268,
   "id": "64b26c34",
   "metadata": {},
   "outputs": [],
   "source": [
    "def getParentPath():\n",
    "    path = os.getcwd()\n",
    "    parent = os.path.join(path, os.pardir)\n",
    "    absparent = os.path.abspath(parent)\n",
    "    return absparent\n",
    "\n",
    "def plotsmth(df, colX, colY, yearConfig):\n",
    "    fig, ax = plt.subplots()\n",
    "    plt.gca().xaxis.set_major_formatter(mdates.DateFormatter('%Y-%m-%d'))\n",
    "    if yearConfig==1:\n",
    "        plt.gca().xaxis.set_major_locator(mdates.YearLocator())\n",
    "    else:\n",
    "        plt.gca().xaxis.set_major_locator(mdates.MonthLocator())\n",
    "    ax.set_title(colY)\n",
    "    ax.plot(df['{0}'.format(colX)], df['{0}'.format(colY)])\n",
    "    plt.gcf().autofmt_xdate()"
   ]
  },
  {
   "cell_type": "code",
   "execution_count": 269,
   "id": "323ad12b",
   "metadata": {},
   "outputs": [
    {
     "name": "stdout",
     "output_type": "stream",
     "text": [
      "        Date   Open   High    Low  Close   Volume Currency\n",
      "0 2020-08-21  2.909  3.078  2.909  3.078  1066769      USD\n",
      "1 2020-08-22  3.078  4.464  2.970  4.464  4020158      USD\n",
      "2 2020-08-23  4.451  4.451  3.915  3.977  1560250      USD\n",
      "3 2020-08-24  3.977  4.730  3.977  4.594  1559675      USD\n",
      "4 2020-08-25  4.595  5.550  4.595  5.550  3024350      USD\n"
     ]
    }
   ],
   "source": [
    "coin = 'polkadot'\n",
    "pathToDf = '{0}\\CryptoBehavior\\Top 100 Crypto Coins\\{1}.csv'.format(getParentPath(), coin)\n",
    "dfCoin = pd.read_csv(pathToDf)\n",
    "\n",
    "# prepare path for plots\n",
    "pathToPlots = '{0}\\Plots\\{1}'.format(getParentPath(), coin)\n",
    "if not os.path.exists(pathToPlots):\n",
    "    os.makedirs(pathToPlots)\n",
    "\n",
    "# set Date to datetime format\n",
    "dfCoin.Date = pd.to_datetime(dfCoin.Date, format='%Y-%m-%d')\n",
    "\n",
    "# show head\n",
    "print(dfCoin.head())"
   ]
  },
  {
   "cell_type": "code",
   "execution_count": 270,
   "id": "039a20e8",
   "metadata": {},
   "outputs": [
    {
     "data": {
      "image/png": "[encoded data removed]",
      "text/plain": [
       "<Figure size 432x288 with 1 Axes>"
      ]
     },
     "metadata": {
      "needs_background": "light"
     },
     "output_type": "display_data"
    },
    {
     "data": {
      "image/png": "[encoded data removed]",
      "text/plain": [
       "<Figure size 432x288 with 1 Axes>"
      ]
     },
     "metadata": {
      "needs_background": "light"
     },
     "output_type": "display_data"
    }
   ],
   "source": [
    "# plot all data\n",
    "for colV in ['Close', 'Volume']:\n",
    "    plotsmth(dfCoin, 'Date', colV, 1)"
   ]
  },
  {
   "cell_type": "code",
   "execution_count": 271,
   "id": "3eb3205f",
   "metadata": {},
   "outputs": [],
   "source": [
    "# set datesStart\n",
    "dateStart = '2021-01-01'\n",
    "dfCoinAnalyze = dfCoin.query('Date>\"{0}\"'.format(dateStart)).reset_index()\n",
    "\n",
    "# plot remaining data\n",
    "for colV in ['Close', 'Volume']:\n",
    "    plotsmth(dfCoinAnalyze, 'Date', colV, 0)\n",
    "    plt.savefig('{0}\\{1}_plain.png'.format(pathToPlots, colV))\n",
    "    plt.close()"
   ]
  },
  {
   "cell_type": "code",
   "execution_count": 272,
   "id": "baefda7c",
   "metadata": {},
   "outputs": [],
   "source": [
    "# prepare data for breakpoint analysis\n",
    "yClose = np.array(dfCoinAnalyze['Close'].tolist())\n",
    "yVolume = np.array(dfCoinAnalyze['Volume'].tolist())\n",
    "yDict = {'Close':yClose, 'Volume': yVolume}\n",
    "\n",
    "# set number of breaks \n",
    "n_breaks = 5 \n",
    "\n",
    "# Breakpoint dict \n",
    "breaksDict = {}"
   ]
  },
  {
   "cell_type": "code",
   "execution_count": 273,
   "id": "59a3dd15",
   "metadata": {},
   "outputs": [
    {
     "name": "stdout",
     "output_type": "stream",
     "text": [
      "Break days by Pelt algo for parameter Close are ['2021-02-10', '2021-05-21', '2021-08-19', '2021-10-13', '2021-12-02', '2021-12-31']\n",
      "Break days by Pelt algo for parameter Volume are ['2021-04-16', '2021-12-31']\n"
     ]
    }
   ],
   "source": [
    "algor = 'Pelt'\n",
    "for key in yDict:\n",
    "    y = yDict[key]\n",
    "    # detection by Pelt algorithm\n",
    "    algo = rpt.Pelt(model=\"rbf\").fit(y)\n",
    "    result = algo.predict(pen=10)\n",
    "    \n",
    "    breaks_rpt = []\n",
    "    for i in result:\n",
    "        breaks_rpt.append(str(dfCoinAnalyze.Date[i-1].date()))\n",
    "        \n",
    "    case = '{0}_{1}'.format(algor, key)\n",
    "    breaksDict[case] = breaks_rpt\n",
    "    \n",
    "    print('Break days by {2} algo for parameter {0} are {1}'.format(key, breaks_rpt, algor))\n",
    "    # display\n",
    "    fig,ax = rpt.display(y, result)\n",
    "    ax[0].set_title(key)\n",
    "    plt.savefig('{0}\\{1}_{2}.png'.format(pathToPlots, key, algor))\n",
    "    plt.close()"
   ]
  },
  {
   "cell_type": "code",
   "execution_count": 274,
   "id": "d80742c6",
   "metadata": {},
   "outputs": [
    {
     "name": "stdout",
     "output_type": "stream",
     "text": [
      "Break days by Dynp algo for parameter Close are ['2021-02-10', '2021-05-21', '2021-08-29', '2021-12-02', '2021-12-31']\n",
      "Break days by Dynp algo for parameter Volume are ['2021-04-16', '2021-05-11', '2021-06-05', '2021-11-02', '2021-12-31']\n"
     ]
    }
   ],
   "source": [
    "algor = 'Dynp'\n",
    "for key in yDict:\n",
    "    y = yDict[key]\n",
    "    \n",
    "    # detection by Dynp algorithm\n",
    "    model = rpt.Dynp(model=\"l1\")\n",
    "    model.fit(y)\n",
    "    breaks = model.predict(n_bkps=n_breaks-1)\n",
    "    \n",
    "    breaks_rpt = []\n",
    "    for i in breaks:\n",
    "        breaks_rpt.append(str(dfCoinAnalyze.Date[i-1].date()))\n",
    "        \n",
    "    case = '{0}_{1}'.format(algor, key)\n",
    "    breaksDict[case] = breaks_rpt\n",
    "    \n",
    "    print('Break days by {2} algo for parameter {0} are {1}'.format(key, breaks_rpt, algor))\n",
    "    fig,ax = rpt.display(y, breaks)\n",
    "    ax[0].set_title(key)\n",
    "    plt.savefig('{0}\\{1}_{2}.png'.format(pathToPlots, key, algor))\n",
    "    plt.close()"
   ]
  },
  {
   "cell_type": "code",
   "execution_count": 275,
   "id": "cf9246c8",
   "metadata": {},
   "outputs": [],
   "source": [
    "# as Dynp (Dynamic Programmin algo uses user-set number of breakpoints, I would use Pelt's results for analysis)"
   ]
  },
  {
   "cell_type": "markdown",
   "id": "b1ec65ec",
   "metadata": {},
   "source": [
    "# Decomposition "
   ]
  },
  {
   "cell_type": "code",
   "execution_count": 276,
   "id": "7f9cf4df",
   "metadata": {},
   "outputs": [],
   "source": [
    "algor = 'Decompose'\n",
    "ts_decomp = dfCoinAnalyze[['Date','Close']]\n",
    "ts_decomp = ts_decomp.reset_index(drop=True)\n",
    "ts_decomp = ts_decomp.set_index('Date')\n",
    "\n",
    "ts_decomposed = seasonal_decompose(ts_decomp,model='multiplicative',extrapolate_trend=True)\n",
    "ts_trend = ts_decomposed.trend\n",
    "ts_seasonal = ts_decomposed.seasonal\n",
    "ts_residual = ts_decomposed.resid\n",
    "fig = ts_decomposed.plot()\n",
    "fig.set_size_inches(11,8)\n",
    "plt.savefig('{0}\\{1}_{2}.png'.format(pathToPlots, key, algor))\n",
    "plt.close()"
   ]
  },
  {
   "cell_type": "markdown",
   "id": "5311389a",
   "metadata": {},
   "source": [
    "# FBprophet btc analysis"
   ]
  },
  {
   "cell_type": "code",
   "execution_count": 277,
   "id": "ef88de30",
   "metadata": {},
   "outputs": [
    {
     "name": "stderr",
     "output_type": "stream",
     "text": [
      "INFO:fbprophet:Disabling yearly seasonality. Run prophet with yearly_seasonality=True to override this.\n",
      "INFO:fbprophet:Disabling daily seasonality. Run prophet with daily_seasonality=True to override this.\n"
     ]
    }
   ],
   "source": [
    "algor = 'fbPro'\n",
    "\n",
    "df = dfCoinAnalyze[['Date', 'Close']]\n",
    "df = df.rename({'Date':'ds', 'Close':'y'}, axis='columns')\n",
    "\n",
    "model = Prophet()\n",
    "model.fit(df)\n",
    "fcst = model.predict(df)\n",
    "fig=model.plot_components(fcst)\n",
    "plt.savefig('{0}\\{1}_{2}.png'.format(pathToPlots, key, algor))\n",
    "plt.close()"
   ]
  },
  {
   "cell_type": "markdown",
   "id": "89720291",
   "metadata": {},
   "source": [
    "# tsmoothie"
   ]
  },
  {
   "cell_type": "code",
   "execution_count": 278,
   "id": "0ca091b1",
   "metadata": {},
   "outputs": [],
   "source": [
    "algor = 'tsmoothie'\n",
    "for keys in yDict:\n",
    "    # operate smoothing\n",
    "    smoother = LowessSmoother(smooth_fraction=0.1, iterations=1)\n",
    "    smoother.smooth(dfCoinAnalyze[['{0}'.format(keys)]])\n",
    "    \n",
    "    # generate intervals\n",
    "    low, up = smoother.get_intervals('prediction_interval')\n",
    "    \n",
    "    # plot the smoothed timeseries with intervals\n",
    "    plt.figure(figsize=(18,5))\n",
    "    \n",
    "    i = 0\n",
    "    \n",
    "    plt.plot(smoother.smooth_data[i], linewidth=3, color='blue')\n",
    "    plt.plot(smoother.data[i], '.k')\n",
    "    plt.title(f\"timeseries {i+1}\"); plt.xlabel('time'); plt.title(keys)\n",
    "    \n",
    "    plt.fill_between(range(len(smoother.data[i])), low[i], up[i], alpha=0.3)\n",
    "    \n",
    "    plt.plot(dfCoinAnalyze[['{0}'.format(keys)]])\n",
    "    plt.savefig('{0}\\{1}_{2}.png'.format(pathToPlots, keys, algor))\n",
    "    plt.close()"
   ]
  },
  {
   "cell_type": "code",
   "execution_count": 279,
   "id": "8e78b6f1",
   "metadata": {},
   "outputs": [],
   "source": [
    "algor = 'bootstrapping'\n",
    "for keys in yDict:\n",
    "    dfCoinTemp = BootstrappingWrapper(ConvolutionSmoother(window_len=8, window_type='ones'), \n",
    "                               bootstrap_type='mbb', block_length=24)\n",
    "    dfCoinTemp_samples = dfCoinTemp.sample(dfCoinAnalyze[['{0}'.format(keys)]], n_samples=100)\n",
    "    \n",
    "    # plot the bootstrapped timeseries\n",
    "    plt.figure(figsize=(13,5)); plt.title(keys)\n",
    "    plt.plot(dfCoinTemp_samples.T, alpha=0.3, c='orange')\n",
    "    plt.plot(dfCoinAnalyze[['{0}'.format(keys)]], c='blue', linewidth=2)\n",
    "    plt.savefig('{0}\\{1}_{2}.png'.format(pathToPlots, keys, algor))\n",
    "    plt.close()"
   ]
  },
  {
   "cell_type": "code",
   "execution_count": 280,
   "id": "2b585d2f",
   "metadata": {},
   "outputs": [
    {
     "name": "stdout",
     "output_type": "stream",
     "text": [
      "['Dynp_Close' 'Dynp_Volume' 'Pelt_Close' 'Pelt_Volume']\n",
      "          index       value\n",
      "2    Dynp_Close  2021-02-10\n",
      "18   Dynp_Close  2021-12-31\n",
      "14   Dynp_Close  2021-12-02\n",
      "6    Dynp_Close  2021-05-21\n",
      "22   Dynp_Close        None\n",
      "10   Dynp_Close  2021-08-29\n",
      "11  Dynp_Volume  2021-06-05\n",
      "19  Dynp_Volume  2021-12-31\n",
      "15  Dynp_Volume  2021-11-02\n",
      "23  Dynp_Volume        None\n",
      "7   Dynp_Volume  2021-05-11\n",
      "3   Dynp_Volume  2021-04-16\n",
      "8    Pelt_Close  2021-08-19\n",
      "12   Pelt_Close  2021-10-13\n",
      "4    Pelt_Close  2021-05-21\n",
      "16   Pelt_Close  2021-12-02\n",
      "20   Pelt_Close  2021-12-31\n",
      "0    Pelt_Close  2021-02-10\n",
      "13  Pelt_Volume        None\n",
      "5   Pelt_Volume  2021-12-31\n",
      "17  Pelt_Volume        None\n",
      "1   Pelt_Volume  2021-04-16\n",
      "21  Pelt_Volume        None\n",
      "9   Pelt_Volume        None\n"
     ]
    }
   ],
   "source": [
    "# create df of breakpoints from dict\n",
    "dfBreaksFin = pd.DataFrame.from_dict(breaksDict, orient='index')\\\n",
    "                          .reset_index()\\\n",
    "                          .melt(id_vars='index')\n",
    "dfBreaksFin = dfBreaksFin.drop(labels='variable', axis='columns')\n",
    "\n",
    "# clean if needed\n",
    "for x in dfBreaksFin['index'].unique():\n",
    "    if 'object' in x:\n",
    "        dfBreaksFin = dfBreaksFin.query('index!=\"{0}\"'.format(x))\n",
    "        break\n",
    "dfBreaksFin = dfBreaksFin.sort_values(by='index')\n",
    "print(dfBreaksFin['index'].unique())\n",
    "\n",
    "# print df\n",
    "print(dfBreaksFin)\n",
    "\n",
    "# save df\n",
    "dfBreaksFin.to_csv('{0}\\Breakpoints.csv'.format(pathToPlots))"
   ]
  }
 ],
 "metadata": {
  "kernelspec": {
   "display_name": "Python 3 (ipykernel)",
   "language": "python",
   "name": "python3"
  },
  "language_info": {
   "codemirror_mode": {
    "name": "ipython",
    "version": 3
   },
   "file_extension": ".py",
   "mimetype": "text/x-python",
   "name": "python",
   "nbconvert_exporter": "python",
   "pygments_lexer": "ipython3",
   "version": "3.8.12"
  }
 },
 "nbformat": 4,
 "nbformat_minor": 5
}
