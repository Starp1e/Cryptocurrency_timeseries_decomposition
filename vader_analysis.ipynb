{
 "cells": [
  {
   "cell_type": "code",
   "execution_count": 2,
   "id": "0e7d60d3",
   "metadata": {},
   "outputs": [],
   "source": [
    "import pandas as pd\n",
    "import re\n",
    "import matplotlib.pyplot as plt\n",
    "from vaderSentiment.vaderSentiment import SentimentIntensityAnalyzer"
   ]
  },
  {
   "cell_type": "code",
   "execution_count": 5,
   "id": "53d54dbf",
   "metadata": {},
   "outputs": [
    {
     "data": {
      "text/html": [
       "<div>\n",
       "<style scoped>\n",
       "    .dataframe tbody tr th:only-of-type {\n",
       "        vertical-align: middle;\n",
       "    }\n",
       "\n",
       "    .dataframe tbody tr th {\n",
       "        vertical-align: top;\n",
       "    }\n",
       "\n",
       "    .dataframe thead th {\n",
       "        text-align: right;\n",
       "    }\n",
       "</style>\n",
       "<table border=\"1\" class=\"dataframe\">\n",
       "  <thead>\n",
       "    <tr style=\"text-align: right;\">\n",
       "      <th></th>\n",
       "      <th>user_location</th>\n",
       "      <th>date</th>\n",
       "      <th>text</th>\n",
       "    </tr>\n",
       "  </thead>\n",
       "  <tbody>\n",
       "    <tr>\n",
       "      <th>0</th>\n",
       "      <td>SA KwaZulu-Natal Richards Bay</td>\n",
       "      <td>2021-07-26 23:18:37</td>\n",
       "      <td>@Auditchain Buy #DBA @Dafriexchange ongoing pr...</td>\n",
       "    </tr>\n",
       "    <tr>\n",
       "      <th>1</th>\n",
       "      <td>Terraqueous Globe</td>\n",
       "      <td>2021-08-06 22:22:14</td>\n",
       "      <td>Hate to say it fellas, but... \\n\\n#BTC https:/...</td>\n",
       "    </tr>\n",
       "    <tr>\n",
       "      <th>2</th>\n",
       "      <td>Surabaya</td>\n",
       "      <td>2021-07-29 06:30:38</td>\n",
       "      <td>#Airdrop : NEXTYPE\\n🔥Reward: $5,000 valued NT ...</td>\n",
       "    </tr>\n",
       "    <tr>\n",
       "      <th>3</th>\n",
       "      <td>Colorado</td>\n",
       "      <td>2021-08-25 02:16:19</td>\n",
       "      <td>See below. In a few years, people will say the...</td>\n",
       "    </tr>\n",
       "    <tr>\n",
       "      <th>4</th>\n",
       "      <td>Canada</td>\n",
       "      <td>2021-04-22 18:30:04</td>\n",
       "      <td>#Bitcoin price in US Dollar #BTC $usd #BTCUSD ...</td>\n",
       "    </tr>\n",
       "  </tbody>\n",
       "</table>\n",
       "</div>"
      ],
      "text/plain": [
       "                    user_location                 date  \\\n",
       "0  SA KwaZulu-Natal Richards Bay   2021-07-26 23:18:37   \n",
       "1               Terraqueous Globe  2021-08-06 22:22:14   \n",
       "2                        Surabaya  2021-07-29 06:30:38   \n",
       "3                        Colorado  2021-08-25 02:16:19   \n",
       "4                          Canada  2021-04-22 18:30:04   \n",
       "\n",
       "                                                text  \n",
       "0  @Auditchain Buy #DBA @Dafriexchange ongoing pr...  \n",
       "1  Hate to say it fellas, but... \\n\\n#BTC https:/...  \n",
       "2  #Airdrop : NEXTYPE\\n🔥Reward: $5,000 valued NT ...  \n",
       "3  See below. In a few years, people will say the...  \n",
       "4  #Bitcoin price in US Dollar #BTC $usd #BTCUSD ...  "
      ]
     },
     "execution_count": 5,
     "metadata": {},
     "output_type": "execute_result"
    }
   ],
   "source": [
    "# read the file\n",
    "crypto_tweets = pd.read_csv(r'C:\\Users\\Matthew\\Desktop\\Университет\\vaderDiploma\\nlp_datasets-main\\crypto_tweets.csv')\n",
    "crypto_tweets.head()"
   ]
  },
  {
   "cell_type": "code",
   "execution_count": 6,
   "id": "ce809cce",
   "metadata": {},
   "outputs": [
    {
     "data": {
      "text/html": [
       "<div>\n",
       "<style scoped>\n",
       "    .dataframe tbody tr th:only-of-type {\n",
       "        vertical-align: middle;\n",
       "    }\n",
       "\n",
       "    .dataframe tbody tr th {\n",
       "        vertical-align: top;\n",
       "    }\n",
       "\n",
       "    .dataframe thead th {\n",
       "        text-align: right;\n",
       "    }\n",
       "</style>\n",
       "<table border=\"1\" class=\"dataframe\">\n",
       "  <thead>\n",
       "    <tr style=\"text-align: right;\">\n",
       "      <th></th>\n",
       "      <th>user_location</th>\n",
       "      <th>text</th>\n",
       "    </tr>\n",
       "    <tr>\n",
       "      <th>date</th>\n",
       "      <th></th>\n",
       "      <th></th>\n",
       "    </tr>\n",
       "  </thead>\n",
       "  <tbody>\n",
       "    <tr>\n",
       "      <th>2021-02-05 17:29:43</th>\n",
       "      <td>1</td>\n",
       "      <td>1</td>\n",
       "    </tr>\n",
       "    <tr>\n",
       "      <th>2021-02-06 00:12:07</th>\n",
       "      <td>1</td>\n",
       "      <td>1</td>\n",
       "    </tr>\n",
       "    <tr>\n",
       "      <th>2021-02-06 16:00:04</th>\n",
       "      <td>1</td>\n",
       "      <td>1</td>\n",
       "    </tr>\n",
       "    <tr>\n",
       "      <th>2021-02-06 16:24:44</th>\n",
       "      <td>1</td>\n",
       "      <td>1</td>\n",
       "    </tr>\n",
       "    <tr>\n",
       "      <th>2021-02-06 19:36:04</th>\n",
       "      <td>1</td>\n",
       "      <td>1</td>\n",
       "    </tr>\n",
       "    <tr>\n",
       "      <th>...</th>\n",
       "      <td>...</td>\n",
       "      <td>...</td>\n",
       "    </tr>\n",
       "    <tr>\n",
       "      <th>2021-11-26 23:04:33</th>\n",
       "      <td>1</td>\n",
       "      <td>1</td>\n",
       "    </tr>\n",
       "    <tr>\n",
       "      <th>2021-11-26 23:17:53</th>\n",
       "      <td>1</td>\n",
       "      <td>1</td>\n",
       "    </tr>\n",
       "    <tr>\n",
       "      <th>2021-11-26 23:19:12</th>\n",
       "      <td>1</td>\n",
       "      <td>1</td>\n",
       "    </tr>\n",
       "    <tr>\n",
       "      <th>2021-11-26 23:24:57</th>\n",
       "      <td>1</td>\n",
       "      <td>1</td>\n",
       "    </tr>\n",
       "    <tr>\n",
       "      <th>2021-11-26 23:47:48</th>\n",
       "      <td>1</td>\n",
       "      <td>1</td>\n",
       "    </tr>\n",
       "  </tbody>\n",
       "</table>\n",
       "<p>3937 rows × 2 columns</p>\n",
       "</div>"
      ],
      "text/plain": [
       "                     user_location  text\n",
       "date                                    \n",
       "2021-02-05 17:29:43              1     1\n",
       "2021-02-06 00:12:07              1     1\n",
       "2021-02-06 16:00:04              1     1\n",
       "2021-02-06 16:24:44              1     1\n",
       "2021-02-06 19:36:04              1     1\n",
       "...                            ...   ...\n",
       "2021-11-26 23:04:33              1     1\n",
       "2021-11-26 23:17:53              1     1\n",
       "2021-11-26 23:19:12              1     1\n",
       "2021-11-26 23:24:57              1     1\n",
       "2021-11-26 23:47:48              1     1\n",
       "\n",
       "[3937 rows x 2 columns]"
      ]
     },
     "execution_count": 6,
     "metadata": {},
     "output_type": "execute_result"
    }
   ],
   "source": [
    "crypto_tweets.sort_values('date', inplace=True)\n",
    "crypto_tweets.groupby('date').count()"
   ]
  },
  {
   "cell_type": "code",
   "execution_count": 7,
   "id": "42e65e6d",
   "metadata": {},
   "outputs": [
    {
     "data": {
      "text/html": [
       "<div>\n",
       "<style scoped>\n",
       "    .dataframe tbody tr th:only-of-type {\n",
       "        vertical-align: middle;\n",
       "    }\n",
       "\n",
       "    .dataframe tbody tr th {\n",
       "        vertical-align: top;\n",
       "    }\n",
       "\n",
       "    .dataframe thead th {\n",
       "        text-align: right;\n",
       "    }\n",
       "</style>\n",
       "<table border=\"1\" class=\"dataframe\">\n",
       "  <thead>\n",
       "    <tr style=\"text-align: right;\">\n",
       "      <th></th>\n",
       "      <th>user_location</th>\n",
       "      <th>text</th>\n",
       "    </tr>\n",
       "    <tr>\n",
       "      <th>date</th>\n",
       "      <th></th>\n",
       "      <th></th>\n",
       "    </tr>\n",
       "  </thead>\n",
       "  <tbody>\n",
       "    <tr>\n",
       "      <th>2021-08-09 13:14:40</th>\n",
       "      <td>2</td>\n",
       "      <td>2</td>\n",
       "    </tr>\n",
       "    <tr>\n",
       "      <th>2021-10-20 05:00:01</th>\n",
       "      <td>2</td>\n",
       "      <td>2</td>\n",
       "    </tr>\n",
       "    <tr>\n",
       "      <th>2021-11-18 17:20:10</th>\n",
       "      <td>2</td>\n",
       "      <td>2</td>\n",
       "    </tr>\n",
       "  </tbody>\n",
       "</table>\n",
       "</div>"
      ],
      "text/plain": [
       "                     user_location  text\n",
       "date                                    \n",
       "2021-08-09 13:14:40              2     2\n",
       "2021-10-20 05:00:01              2     2\n",
       "2021-11-18 17:20:10              2     2"
      ]
     },
     "execution_count": 7,
     "metadata": {},
     "output_type": "execute_result"
    }
   ],
   "source": [
    "crypto_tweets.groupby('date').count().query('text>1')"
   ]
  },
  {
   "cell_type": "code",
   "execution_count": 8,
   "id": "0d5d6740",
   "metadata": {},
   "outputs": [
    {
     "data": {
      "text/plain": [
       "['Bitcoin is now accepted as payment for flights, homes and hotels by travel firm Travala - using Binance Pay 🚀\\n\\n#Bitcoin #BTC',\n",
       " 'By using https://t.co/rYz1fSKM2V you will capitalise on the Exact-Match domain endless competitive advantages combi… https://t.co/Q70QGfPW7Q',\n",
       " 'Bitcoin - BTC\\nPrice: $40,789.10\\nChange in 1h: +1.63557849%\\nMarket cap: $759,540,987,587.21\\nRanking: 1\\n#Bitcoin #BTC',\n",
       " '@TimNegron_ @DocumentingBTC Me, a novice and I mean a special kind of novice (literally thought you needed $37,000+… https://t.co/tFkPUVOuIo',\n",
       " '#cryptocurrency going up baby!!!\\n#XRP #Bitcoin #BTC #dogecointoadollar #ETH',\n",
       " '@BearsOutreach @ChicagoBears @ByTheHandClub If You Own #dogecoin Hit That Retweet &amp; follow Button… https://t.co/q5vmSLJVpd',\n",
       " '2021 #SuperBowl 55 - What Will happen to the Price of #Bitcoin (BTC) During the Superbowl? -… https://t.co/QlIl0tebTO',\n",
       " 'Have you seen this beautiful photo 👍 No 12 and check out the volume #DOGE #dogecoin #doge #dogeto1dollar… https://t.co/3uXBhNKcBw',\n",
       " \"Looking up-close... BTW, 8 mins trend band (red one, in the middle) is what's driving price down. Shold #BTC manage… https://t.co/jwpjoaaLzn\",\n",
       " '@rarelytwice @elonmusk If You Own #dogecoin Hit The follow Button     #elonforPresident \\n\\n#eastmankodak $KODK 100$… https://t.co/yMJWrRQgdK',\n",
       " 'Lets start a campaign and ask @WebullGlobal &amp; @coinbase to add @dogecoin to their crypto list. #dogecoin #dogearmy… https://t.co/syWsjiEiWF']"
      ]
     },
     "execution_count": 8,
     "metadata": {},
     "output_type": "execute_result"
    }
   ],
   "source": [
    "crypto_tweets[\"text\"] = crypto_tweets[\"text\"].apply(str)\n",
    "tweets = crypto_tweets[\"text\"].tolist()\n",
    "tweets[0:11]"
   ]
  },
  {
   "cell_type": "code",
   "execution_count": 17,
   "id": "9e8e567d",
   "metadata": {},
   "outputs": [
    {
     "name": "stdout",
     "output_type": "stream",
     "text": [
      "3940\n"
     ]
    },
    {
     "data": {
      "text/html": [
       "<div>\n",
       "<style scoped>\n",
       "    .dataframe tbody tr th:only-of-type {\n",
       "        vertical-align: middle;\n",
       "    }\n",
       "\n",
       "    .dataframe tbody tr th {\n",
       "        vertical-align: top;\n",
       "    }\n",
       "\n",
       "    .dataframe thead th {\n",
       "        text-align: right;\n",
       "    }\n",
       "</style>\n",
       "<table border=\"1\" class=\"dataframe\">\n",
       "  <thead>\n",
       "    <tr style=\"text-align: right;\">\n",
       "      <th></th>\n",
       "      <th>user_location</th>\n",
       "      <th>date</th>\n",
       "      <th>text</th>\n",
       "      <th>cleaned_text</th>\n",
       "    </tr>\n",
       "  </thead>\n",
       "  <tbody>\n",
       "    <tr>\n",
       "      <th>634</th>\n",
       "      <td>Decentralised</td>\n",
       "      <td>2021-02-05 17:29:43</td>\n",
       "      <td>Bitcoin is now accepted as payment for flights...</td>\n",
       "      <td>bitcoin is now accepted as payment for flights...</td>\n",
       "    </tr>\n",
       "    <tr>\n",
       "      <th>2205</th>\n",
       "      <td>The Internet</td>\n",
       "      <td>2021-02-06 00:12:07</td>\n",
       "      <td>By using https://t.co/rYz1fSKM2V you will capi...</td>\n",
       "      <td>by using URL you will capitalise on the exact-...</td>\n",
       "    </tr>\n",
       "    <tr>\n",
       "      <th>2737</th>\n",
       "      <td>Blockchain</td>\n",
       "      <td>2021-02-06 16:00:04</td>\n",
       "      <td>Bitcoin - BTC\\nPrice: $40,789.10\\nChange in 1h...</td>\n",
       "      <td>bitcoin - btc price: $40,789.10 change in 1h: ...</td>\n",
       "    </tr>\n",
       "    <tr>\n",
       "      <th>1077</th>\n",
       "      <td>Nashville, TN</td>\n",
       "      <td>2021-02-06 16:24:44</td>\n",
       "      <td>@TimNegron_ @DocumentingBTC Me, a novice and I...</td>\n",
       "      <td>AT_USER AT_USER me, a novice and i mean a spec...</td>\n",
       "    </tr>\n",
       "    <tr>\n",
       "      <th>82</th>\n",
       "      <td>Hudson, WI</td>\n",
       "      <td>2021-02-06 19:36:04</td>\n",
       "      <td>#cryptocurrency going up baby!!!\\n#XRP #Bitcoi...</td>\n",
       "      <td>cryptocurrency going up baby!!! xrp bitcoin bt...</td>\n",
       "    </tr>\n",
       "  </tbody>\n",
       "</table>\n",
       "</div>"
      ],
      "text/plain": [
       "      user_location                 date  \\\n",
       "634   Decentralised  2021-02-05 17:29:43   \n",
       "2205   The Internet  2021-02-06 00:12:07   \n",
       "2737     Blockchain  2021-02-06 16:00:04   \n",
       "1077  Nashville, TN  2021-02-06 16:24:44   \n",
       "82       Hudson, WI  2021-02-06 19:36:04   \n",
       "\n",
       "                                                   text  \\\n",
       "634   Bitcoin is now accepted as payment for flights...   \n",
       "2205  By using https://t.co/rYz1fSKM2V you will capi...   \n",
       "2737  Bitcoin - BTC\\nPrice: $40,789.10\\nChange in 1h...   \n",
       "1077  @TimNegron_ @DocumentingBTC Me, a novice and I...   \n",
       "82    #cryptocurrency going up baby!!!\\n#XRP #Bitcoi...   \n",
       "\n",
       "                                           cleaned_text  \n",
       "634   bitcoin is now accepted as payment for flights...  \n",
       "2205  by using URL you will capitalise on the exact-...  \n",
       "2737  bitcoin - btc price: $40,789.10 change in 1h: ...  \n",
       "1077  AT_USER AT_USER me, a novice and i mean a spec...  \n",
       "82    cryptocurrency going up baby!!! xrp bitcoin bt...  "
      ]
     },
     "execution_count": 17,
     "metadata": {},
     "output_type": "execute_result"
    }
   ],
   "source": [
    "def processTweet(tweet): \n",
    "    # process the tweets\n",
    "    #Convert to lower case\n",
    "    tweet = tweet.lower()\n",
    "    #Convert www.* or https?://* to URL\n",
    "    tweet = re.sub('((www\\.[^\\s]+)|(https?://[^\\s]+))','URL',tweet)\n",
    "    #Convert @username to AT_USER\n",
    "    tweet = re.sub('@[^\\s]+','AT_USER',tweet)\n",
    "    #Remove additional white spaces\n",
    "    tweet = re.sub('[\\s]+', ' ', tweet)\n",
    "    #Replace #word with word\n",
    "    tweet = re.sub(r'#([^\\s]+)', r'\\1', tweet)#trim\n",
    "    tweet = tweet.strip('\\'\"')\n",
    "    return tweet\n",
    "#end\n",
    "tweets_cleaned = []\n",
    "#Read the tweets one by one and process it\n",
    "for i in range (0,len(tweets)):\n",
    "    processedTweet = processTweet(tweets[i])\n",
    "    tweets_cleaned.append(processedTweet)\n",
    "print(len(tweets_cleaned))\n",
    "crypto_tweets['cleaned_text']=tweets_cleaned\n",
    "crypto_tweets.head()"
   ]
  },
  {
   "cell_type": "code",
   "execution_count": 16,
   "id": "c2e0d788",
   "metadata": {},
   "outputs": [
    {
     "name": "stdout",
     "output_type": "stream",
     "text": [
      "(3940, 2)\n"
     ]
    },
    {
     "data": {
      "text/html": [
       "<div>\n",
       "<style scoped>\n",
       "    .dataframe tbody tr th:only-of-type {\n",
       "        vertical-align: middle;\n",
       "    }\n",
       "\n",
       "    .dataframe tbody tr th {\n",
       "        vertical-align: top;\n",
       "    }\n",
       "\n",
       "    .dataframe thead th {\n",
       "        text-align: right;\n",
       "    }\n",
       "</style>\n",
       "<table border=\"1\" class=\"dataframe\">\n",
       "  <thead>\n",
       "    <tr style=\"text-align: right;\">\n",
       "      <th></th>\n",
       "      <th>tweets</th>\n",
       "      <th>score</th>\n",
       "    </tr>\n",
       "  </thead>\n",
       "  <tbody>\n",
       "    <tr>\n",
       "      <th>0</th>\n",
       "      <td>bitcoin is now accepted as payment for flights...</td>\n",
       "      <td>0.1779</td>\n",
       "    </tr>\n",
       "    <tr>\n",
       "      <th>1</th>\n",
       "      <td>by using URL you will capitalise on the exact-...</td>\n",
       "      <td>0.4939</td>\n",
       "    </tr>\n",
       "    <tr>\n",
       "      <th>2</th>\n",
       "      <td>bitcoin - btc price: $40,789.10 change in 1h: ...</td>\n",
       "      <td>0.0000</td>\n",
       "    </tr>\n",
       "    <tr>\n",
       "      <th>3</th>\n",
       "      <td>AT_USER AT_USER me, a novice and i mean a spec...</td>\n",
       "      <td>0.4019</td>\n",
       "    </tr>\n",
       "    <tr>\n",
       "      <th>4</th>\n",
       "      <td>cryptocurrency going up baby!!! xrp bitcoin bt...</td>\n",
       "      <td>0.0000</td>\n",
       "    </tr>\n",
       "    <tr>\n",
       "      <th>5</th>\n",
       "      <td>AT_USER AT_USER AT_USER if you own dogecoin hi...</td>\n",
       "      <td>0.0000</td>\n",
       "    </tr>\n",
       "    <tr>\n",
       "      <th>6</th>\n",
       "      <td>2021 superbowl 55 - what will happen to the pr...</td>\n",
       "      <td>0.0000</td>\n",
       "    </tr>\n",
       "    <tr>\n",
       "      <th>7</th>\n",
       "      <td>have you seen this beautiful photo 👍 no 12 and...</td>\n",
       "      <td>0.5307</td>\n",
       "    </tr>\n",
       "    <tr>\n",
       "      <th>8</th>\n",
       "      <td>looking up-close... btw, 8 mins trend band (re...</td>\n",
       "      <td>0.0000</td>\n",
       "    </tr>\n",
       "    <tr>\n",
       "      <th>9</th>\n",
       "      <td>AT_USER AT_USER if you own dogecoin hit the fo...</td>\n",
       "      <td>0.0000</td>\n",
       "    </tr>\n",
       "    <tr>\n",
       "      <th>10</th>\n",
       "      <td>lets start a campaign and ask AT_USER &amp;amp; AT...</td>\n",
       "      <td>0.0000</td>\n",
       "    </tr>\n",
       "  </tbody>\n",
       "</table>\n",
       "</div>"
      ],
      "text/plain": [
       "                                               tweets   score\n",
       "0   bitcoin is now accepted as payment for flights...  0.1779\n",
       "1   by using URL you will capitalise on the exact-...  0.4939\n",
       "2   bitcoin - btc price: $40,789.10 change in 1h: ...  0.0000\n",
       "3   AT_USER AT_USER me, a novice and i mean a spec...  0.4019\n",
       "4   cryptocurrency going up baby!!! xrp bitcoin bt...  0.0000\n",
       "5   AT_USER AT_USER AT_USER if you own dogecoin hi...  0.0000\n",
       "6   2021 superbowl 55 - what will happen to the pr...  0.0000\n",
       "7   have you seen this beautiful photo 👍 no 12 and...  0.5307\n",
       "8   looking up-close... btw, 8 mins trend band (re...  0.0000\n",
       "9   AT_USER AT_USER if you own dogecoin hit the fo...  0.0000\n",
       "10  lets start a campaign and ask AT_USER &amp; AT...  0.0000"
      ]
     },
     "execution_count": 16,
     "metadata": {},
     "output_type": "execute_result"
    }
   ],
   "source": [
    "vader = SentimentIntensityAnalyzer()\n",
    "def getTweetScore(Tweets):\n",
    "    score = vader.polarity_scores(Tweets)['compound']\n",
    "    return score\n",
    "scores = []\n",
    "#Read the tweets one by one and get the sentiment score\n",
    "for i in range (0,len(tweets_cleaned)):\n",
    "    tweets_score = getTweetScore(tweets_cleaned[i])\n",
    "    scores.append(tweets_score)   \n",
    "dict_tweets ={\"tweets\": tweets_cleaned, \"score\" : scores}\n",
    "data_tweets_emoji = pd.DataFrame(dict_tweets)\n",
    "print(data_tweets_emoji.shape)\n",
    "data_tweets_emoji.head(11)"
   ]
  },
  {
   "cell_type": "code",
   "execution_count": 20,
   "id": "3915d4a1",
   "metadata": {},
   "outputs": [
    {
     "data": {
      "text/html": [
       "<div>\n",
       "<style scoped>\n",
       "    .dataframe tbody tr th:only-of-type {\n",
       "        vertical-align: middle;\n",
       "    }\n",
       "\n",
       "    .dataframe tbody tr th {\n",
       "        vertical-align: top;\n",
       "    }\n",
       "\n",
       "    .dataframe thead th {\n",
       "        text-align: right;\n",
       "    }\n",
       "</style>\n",
       "<table border=\"1\" class=\"dataframe\">\n",
       "  <thead>\n",
       "    <tr style=\"text-align: right;\">\n",
       "      <th></th>\n",
       "      <th>date</th>\n",
       "      <th>cleaned_text</th>\n",
       "      <th>score</th>\n",
       "    </tr>\n",
       "  </thead>\n",
       "  <tbody>\n",
       "    <tr>\n",
       "      <th>0</th>\n",
       "      <td>2021-02-05 17:29:43</td>\n",
       "      <td>bitcoin is now accepted as payment for flights...</td>\n",
       "      <td>0.1779</td>\n",
       "    </tr>\n",
       "    <tr>\n",
       "      <th>1</th>\n",
       "      <td>2021-02-06 00:12:07</td>\n",
       "      <td>by using URL you will capitalise on the exact-...</td>\n",
       "      <td>0.4939</td>\n",
       "    </tr>\n",
       "    <tr>\n",
       "      <th>2</th>\n",
       "      <td>2021-02-06 16:00:04</td>\n",
       "      <td>bitcoin - btc price: $40,789.10 change in 1h: ...</td>\n",
       "      <td>0.0000</td>\n",
       "    </tr>\n",
       "    <tr>\n",
       "      <th>3</th>\n",
       "      <td>2021-02-06 16:24:44</td>\n",
       "      <td>AT_USER AT_USER me, a novice and i mean a spec...</td>\n",
       "      <td>0.4019</td>\n",
       "    </tr>\n",
       "    <tr>\n",
       "      <th>4</th>\n",
       "      <td>2021-02-06 19:36:04</td>\n",
       "      <td>cryptocurrency going up baby!!! xrp bitcoin bt...</td>\n",
       "      <td>0.0000</td>\n",
       "    </tr>\n",
       "  </tbody>\n",
       "</table>\n",
       "</div>"
      ],
      "text/plain": [
       "                  date                                       cleaned_text  \\\n",
       "0  2021-02-05 17:29:43  bitcoin is now accepted as payment for flights...   \n",
       "1  2021-02-06 00:12:07  by using URL you will capitalise on the exact-...   \n",
       "2  2021-02-06 16:00:04  bitcoin - btc price: $40,789.10 change in 1h: ...   \n",
       "3  2021-02-06 16:24:44  AT_USER AT_USER me, a novice and i mean a spec...   \n",
       "4  2021-02-06 19:36:04  cryptocurrency going up baby!!! xrp bitcoin bt...   \n",
       "\n",
       "    score  \n",
       "0  0.1779  \n",
       "1  0.4939  \n",
       "2  0.0000  \n",
       "3  0.4019  \n",
       "4  0.0000  "
      ]
     },
     "execution_count": 20,
     "metadata": {},
     "output_type": "execute_result"
    }
   ],
   "source": [
    "mood_by_month = crypto_tweets[['date', 'cleaned_text']].merge(data_tweets_emoji, how='left', left_on='cleaned_text', right_on='tweets')\n",
    "mood_by_month.drop(labels=['tweets'], axis=1, inplace=True)\n",
    "mood_by_month.head()"
   ]
  },
  {
   "cell_type": "code",
   "execution_count": 23,
   "id": "54c5adfe",
   "metadata": {},
   "outputs": [
    {
     "data": {
      "text/plain": [
       "date\n",
       "2021-02-28    42.6044\n",
       "2021-03-31     0.0121\n",
       "2021-04-30    23.2491\n",
       "2021-05-31     9.1378\n",
       "2021-06-30    59.5128\n",
       "Freq: M, Name: score, dtype: float64"
      ]
     },
     "execution_count": 23,
     "metadata": {},
     "output_type": "execute_result"
    }
   ],
   "source": [
    "mood_by_month['date'] = pd.to_datetime(mood_by_month['date'], format='%Y-%m-%d %H:%M:%S')\n",
    "mood_by_month.set_index('date', inplace=True)\n",
    "mood_by_month1 = mood_by_month.resample('1M')['score'].sum()\n",
    "mood_by_month1.head()"
   ]
  },
  {
   "cell_type": "code",
   "execution_count": 35,
   "id": "7f01da0c",
   "metadata": {},
   "outputs": [
    {
     "data": {
      "image/png": "[encoded data removed]",
      "text/plain": [
       "<Figure size 1440x216 with 1 Axes>"
      ]
     },
     "metadata": {
      "needs_background": "light"
     },
     "output_type": "display_data"
    }
   ],
   "source": [
    "plt.plot(mood_by_month1)\n",
    "plt.rcParams[\"figure.figsize\"] = (20,3)\n",
    "plt.title('Randomized Dataset')\n",
    "plt.show()"
   ]
  },
  {
   "cell_type": "code",
   "execution_count": 31,
   "id": "b9e9d880",
   "metadata": {},
   "outputs": [
    {
     "data": {
      "text/html": [
       "<div>\n",
       "<style scoped>\n",
       "    .dataframe tbody tr th:only-of-type {\n",
       "        vertical-align: middle;\n",
       "    }\n",
       "\n",
       "    .dataframe tbody tr th {\n",
       "        vertical-align: top;\n",
       "    }\n",
       "\n",
       "    .dataframe thead th {\n",
       "        text-align: right;\n",
       "    }\n",
       "</style>\n",
       "<table border=\"1\" class=\"dataframe\">\n",
       "  <thead>\n",
       "    <tr style=\"text-align: right;\">\n",
       "      <th></th>\n",
       "      <th>mean</th>\n",
       "      <th>std</th>\n",
       "      <th>var</th>\n",
       "    </tr>\n",
       "    <tr>\n",
       "      <th>date</th>\n",
       "      <th></th>\n",
       "      <th></th>\n",
       "      <th></th>\n",
       "    </tr>\n",
       "  </thead>\n",
       "  <tbody>\n",
       "    <tr>\n",
       "      <th>2021-02-05</th>\n",
       "      <td>0.151515</td>\n",
       "      <td>0.375420</td>\n",
       "      <td>0.140940</td>\n",
       "    </tr>\n",
       "    <tr>\n",
       "      <th>2021-02-06</th>\n",
       "      <td>0.148199</td>\n",
       "      <td>0.356104</td>\n",
       "      <td>0.126810</td>\n",
       "    </tr>\n",
       "    <tr>\n",
       "      <th>2021-02-07</th>\n",
       "      <td>0.145060</td>\n",
       "      <td>0.340988</td>\n",
       "      <td>0.116273</td>\n",
       "    </tr>\n",
       "    <tr>\n",
       "      <th>2021-02-08</th>\n",
       "      <td>0.166337</td>\n",
       "      <td>0.355058</td>\n",
       "      <td>0.126066</td>\n",
       "    </tr>\n",
       "    <tr>\n",
       "      <th>2021-02-09</th>\n",
       "      <td>0.155760</td>\n",
       "      <td>0.362583</td>\n",
       "      <td>0.131466</td>\n",
       "    </tr>\n",
       "  </tbody>\n",
       "</table>\n",
       "</div>"
      ],
      "text/plain": [
       "                mean       std       var\n",
       "date                                    \n",
       "2021-02-05  0.151515  0.375420  0.140940\n",
       "2021-02-06  0.148199  0.356104  0.126810\n",
       "2021-02-07  0.145060  0.340988  0.116273\n",
       "2021-02-08  0.166337  0.355058  0.126066\n",
       "2021-02-09  0.155760  0.362583  0.131466"
      ]
     },
     "execution_count": 31,
     "metadata": {},
     "output_type": "execute_result"
    }
   ],
   "source": [
    "# experiment on data from the whole dataset\n",
    "whole_daily_mood = pd.read_csv(r'C:\\Users\\Matthew\\Desktop\\Университет\\vaderDiploma\\nlp_datasets-main\\btc_score_daily_raw.csv',\n",
    "                              skiprows=3, names=['date', 'mean', 'std', 'var'])\n",
    "whole_daily_mood['date'] = pd.to_datetime(whole_daily_mood['date'], format='%Y-%m-%d')\n",
    "whole_daily_mood.set_index('date', inplace=True)\n",
    "whole_daily_mood.head()"
   ]
  },
  {
   "cell_type": "code",
   "execution_count": 32,
   "id": "d04ab894",
   "metadata": {},
   "outputs": [
    {
     "data": {
      "text/plain": [
       "date\n",
       "2021-02-28    0.151515\n",
       "2021-03-31    0.157428\n",
       "2021-04-30    0.151958\n",
       "2021-05-31    0.160743\n",
       "2021-06-30    0.240464\n",
       "Freq: M, Name: mean, dtype: float64"
      ]
     },
     "execution_count": 32,
     "metadata": {},
     "output_type": "execute_result"
    }
   ],
   "source": [
    "whole_monthly_mood = whole_daily_mood.resample('1M')['mean'].median()\n",
    "whole_monthly_mood.head()"
   ]
  },
  {
   "cell_type": "code",
   "execution_count": 34,
   "id": "f3a8ddba",
   "metadata": {},
   "outputs": [
    {
     "data": {
      "image/png": "[encoded data removed]",
      "text/plain": [
       "<Figure size 1440x216 with 1 Axes>"
      ]
     },
     "metadata": {
      "needs_background": "light"
     },
     "output_type": "display_data"
    }
   ],
   "source": [
    "plt.plot(whole_monthly_mood)\n",
    "plt.rcParams[\"figure.figsize\"] = (20,3)\n",
    "plt.title('Full Dataset')\n",
    "plt.show()"
   ]
  }
 ],
 "metadata": {
  "kernelspec": {
   "display_name": "Python 3 (ipykernel)",
   "language": "python",
   "name": "python3"
  },
  "language_info": {
   "codemirror_mode": {
    "name": "ipython",
    "version": 3
   },
   "file_extension": ".py",
   "mimetype": "text/x-python",
   "name": "python",
   "nbconvert_exporter": "python",
   "pygments_lexer": "ipython3",
   "version": "3.8.12"
  }
 },
 "nbformat": 4,
 "nbformat_minor": 5
}
